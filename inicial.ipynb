{
 "cells": [
  {
   "cell_type": "code",
   "execution_count": null,
   "metadata": {},
   "outputs": [],
   "source": [
    "# Passo 1: Importar biblioteca e base de dados \n",
    "\n",
    "import pandas\n",
    "\n",
    "# Passo 2: Visualizar a base de dados\n",
    "tabela = pandas.read_csv(\"cancelamentos.csv\")\n",
    "display(tabela)\n"
   ]
  },
  {
   "cell_type": "code",
   "execution_count": null,
   "metadata": {},
   "outputs": [],
   "source": [
    "# Passo 3: Visualização e Tratamento dos erros \n",
    "\n",
    "display(tabela.info())\n",
    "\n",
    "# Dropna o python deleta *tudo* o que estiver vazio\n",
    "tabela = tabela.dropna()\n",
    "display(tabela.info())\n",
    "\n",
    "\"\"\"\n",
    "DROP: precisamos dropar as colunas que não irão acrescentar em nada na nossa base de dados\n",
    "\n",
    "1º: Não sobrecarregar a base\n",
    "2º: Não acumular dados irrelevantes\n",
    "3º: Te confunde\n",
    "\n",
    "É necessário informar ao comando drop o EIXO\n",
    "Linha: axis = 0\n",
    "Coluna: axis = 1\n",
    "\"\"\"\n",
    "\n",
    "tabela = tabela.drop(\"CustomerID\", axis = 1)\n",
    "display(tabela)"
   ]
  },
  {
   "cell_type": "code",
   "execution_count": null,
   "metadata": {},
   "outputs": [],
   "source": [
    "# Passo 4: Análise inicial dos dados (entender quantos cancelamentos)\n",
    "\n",
    "display(tabela[\"cancelou\"].value_counts())\n",
    "display(tabela[\"cancelou\"].value_counts(normalize=True).map(\"{:.1%}\".format))"
   ]
  },
  {
   "cell_type": "code",
   "execution_count": null,
   "metadata": {},
   "outputs": [],
   "source": [
    "display(tabela[\"duracao_contrato\"].value_counts())\n",
    "display(tabela[\"duracao_contrato\"].value_counts(normalize=True).map(\"{:.1%}\".format))"
   ]
  },
  {
   "cell_type": "code",
   "execution_count": null,
   "metadata": {},
   "outputs": [],
   "source": [
    "display(tabela[\"sexo\"].value_counts())\n",
    "display(tabela[\"sexo\"].value_counts(normalize=True).map(\"{:.1%}\".format))"
   ]
  },
  {
   "cell_type": "code",
   "execution_count": null,
   "metadata": {},
   "outputs": [],
   "source": [
    "# Exibimos a média agrupada por tipo de assinatura, é possível visualizar qual foi o plano que mais teve cancelamentos\n",
    "\n",
    "# Primeiro insight: Contrato mensal tem a maior taxa de cancelamento\n",
    "# Com o groupby podemos determinar como a contagem de valores será exibida (soma, média, contando) diferente do values.count\n",
    "\n",
    "display(tabela.groupby(\"duracao_contrato\").mean(numeric_only=True))\n"
   ]
  },
  {
   "cell_type": "code",
   "execution_count": null,
   "metadata": {},
   "outputs": [],
   "source": [
    "\n",
    "# Remover contrato mensal e descobrir outras causas de cancelamento\n",
    "tabela = tabela[tabela[\"duracao_contrato\"]!=\"Monthly\"]\n",
    "\n",
    "display(tabela[\"cancelou\"].value_counts())\n",
    "display(tabela[\"cancelou\"].value_counts(normalize=True).map(\"{:.1%}\".format))\n"
   ]
  },
  {
   "cell_type": "code",
   "execution_count": null,
   "metadata": {},
   "outputs": [],
   "source": [
    "# Criação de gráfico para melhor visualização\n",
    "import plotly.express as px\n",
    "\n",
    "for coluna in tabela.columns:\n",
    "    grafico = px.histogram(tabela, x=coluna, color=\"cancelou\")\n",
    "    grafico.show()"
   ]
  },
  {
   "cell_type": "code",
   "execution_count": null,
   "metadata": {},
   "outputs": [],
   "source": [
    "# Com os graficos descobrimos novos insights: \n",
    "# 2º: Atrasos acima de 20 dias, 100% cancelam\n",
    "# 3º: Mais de 5 ligações para o Call Center, 100% cancelam\n",
    "\n",
    "tabela = tabela[tabela[\"ligacoes_callcenter\"]<5]\n",
    "tabela = tabela[tabela[\"dias_atraso\"]<=20]\n",
    "display(tabela)\n",
    "display(tabela[\"cancelou\"].value_counts())\n",
    "display(tabela[\"cancelou\"].value_counts(normalize=True).map(\"{:.1%}\".format))\n",
    "\n",
    "# Resolvendo os problemas identificados eliminamos quase 30% das taxas de cancelamento\n",
    "# - forma de contrato mensal\n",
    "# - necessidade de ligações no call center\n",
    "# - atraso no pagamento"
   ]
  }
 ],
 "metadata": {
  "kernelspec": {
   "display_name": "base",
   "language": "python",
   "name": "python3"
  },
  "language_info": {
   "codemirror_mode": {
    "name": "ipython",
    "version": 3
   },
   "file_extension": ".py",
   "mimetype": "text/x-python",
   "name": "python",
   "nbconvert_exporter": "python",
   "pygments_lexer": "ipython3",
   "version": "3.11.4"
  },
  "orig_nbformat": 4
 },
 "nbformat": 4,
 "nbformat_minor": 2
}
